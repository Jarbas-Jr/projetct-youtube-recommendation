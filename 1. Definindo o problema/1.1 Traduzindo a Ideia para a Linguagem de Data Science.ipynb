{
 "cells": [
  {
   "cell_type": "markdown",
   "metadata": {},
   "source": [
    "O primeiro passo é definir o problema.\n",
    "\n",
    "Traduzir o problema de négocios para um problema que a gente possa resolver com dados(data science).\n",
    "\n",
    "Nesse caso, o exemplo que será usado, mario queria um problema que pudesse ser desafiador e não algo que ja tenha um dataset pronto.\n",
    "\n",
    "Seguinte problema: Youtube, como ferramenta para aprender sobre DS e ML. Verificou-se que são 500h de video enviadas para o Youtube em cada minuto, obvio que nao sao todos de ML. É muito video, e mesmo os videos de ML, tem muitos que nao me interessam muito, tipo os de ML para iniciantes.\n",
    "\n",
    "A gente nao sabe qual problema iremos resolver nesse primeiro passo, e ao final desse primeiro passo temos que ter é um problema bem definido para que possamos ir em busca dos dados e começar o processo da criação da solução. Deve-se conhecer o problema para saber que a solução é adequada para resolve-lo. Não queremos passar semanas resolvendo o problema errado.\n",
    "\n",
    "Primeira pergunta: QUAL É O PROBLEMA ? Gasto muito tempo buscando novos vídeos no youtube.\n",
    "\n",
    "Segunda pergunta: QUAL A SOLUÇÃO IDEAL ? Ter uma lista apenas dos vídeos que eu com certeza vou gostar.\n",
    "\n",
    "Claro que isso é quase impossivel hoje, ter uma lista dos videos que com certeza irei gostar.\n",
    "\n",
    "Mas saber o ideal, ajudará a definir uma solução intermediaria.\n",
    "\n",
    "COMO QUE EU POSSO FAZER ISSO COM DS/ML ? Posso criar um recomendador de vídeos, mecanismos que vai todos os dias no youtube, faz as buscas, verifica canais e me retorna uma lista de vídeos interessantes pra mim. \n",
    "\n",
    "Mas vamos um passo além nessa definição, existem duas soluções que eu poderia criar: uma solução que simplesmente selecione alguns videos pra mim. Posso falar: selecione os top 10 que o modelo considera mais interessantes de eu assistir. Ou criar uma solução de rankear, que de uma pontuação de relevância pra esses videos, os videos que tem mais chance de eu gostar vão estas acima dos que tem menos chance de eu gostar.\n",
    "\n",
    "QUAL A DIFERENÇA DAS DUAS ABORDAGENS, PONTO DE CORTE E RANK ?\n",
    "\n",
    "PONTO DE CORTE: Como essa solução será usada em produção ? Primeiro vamos entender como isso vai ser feito quanto tiver em produção. Retorna apenas o Top N.\n",
    "\n",
    "RANK: a gente quer que a ordem dos videos seja relacionada ao interesse de assistir o vídeo, que vai retornar mais valor pra mim.\n",
    "\n",
    "Nesse caso vou querer tem um web app, uma telinha que acesso com os links para os videos e as previsões ordenadas.\n",
    "\n",
    "Terei uma página que terei lista de vídeos, e do lado do nome de cada vídeo, temos o link direto para o video no youtube.\n",
    "\n",
    "\n",
    "COMO EU VOU SABER QUE DEU CERTO ? Muito importante quando for projeto de empresa. Precisamos de uma métrica primaria para saber se está resolvendo ou não e temos uma subjetividade muito grande pq temos que definir se gostamos ou não do vídeo. \n",
    "\n",
    "Logo a métrica primaria: quantos vídeos dentro dos Top N recomendados eu assisti até o final ? Tendo essa métrica a gente pode comparar com simplesmente pegar os resultados direto da busca. A gente sabe que deu certo se os Top N recomendado são mais assistidos do que os Top N da busca do youtube.\n",
    "\n",
    "Hoje, vou no YT e o que eu faço ? Digito \"machine learning\" e ele vai me dar vários vídeos sobre ML, ai vou e classifico pela data de envio, entao sempre olho os que foram recentemente enviados, e ainda filtro por tempo, pois os acima de 20 min tendem a ser mais relevantes. Se eu avaliar agora, por exemplo, desses 10 ou 20 que o YT retornou, qual desses eu assistiria até o fim ? Ou quais eu pelo menos clicaria para mandar pra minha lista de assistir depois ? Avaliando pelo titulo e thumbnail, então é claro que as nossas labels serão ruídosas, pq não temos 100% de acerto, pq muitos videos que nao vejo eu poderia gostar e outros que vejo e não gosto. Então vemos como lidar com isso na hora de ter os dados.\n",
    "\n",
    "Mário selecione um video que ele pode se interessar, colocaria pra assistir, e ver se parece interessante ou nao. FC 2020 é o tipo de video que Mario costuma gostar pois fala de casos especificos e como são resolvidos. A duração é correlacionada como interesse do mário, pois é mais detalhada e vamos ver se conseguimos extrair isso para a primeira versão do modelo. \n",
    "\n",
    "A primeira solução não é complexa, mas sim para nos tirar do zero, então vcs veem como entender o processo que é usado hj na empresa ou qual seja o problema, é muito importante para definir os objetivos. Vimos que essa métrica primaria de quantos veios assistimos até o final não é muito boa, entao vamos mudar, entao será agora, dos Top N videos, quantos coloco na lista para assistir depois. Não é certeza que esses videos serão relevantes, mas tem muitos exemplos positivos desse vídeos que eu poderei usar, então o meu modelo vai conseguir entender melhor o que parece interessante, os sinais que parecem interessantes. Se eu tivesse 10 anos de histórico, talvez eu pudesse usar a duração assistida do video, mas ainda assim fosse mais interessante usar a lista de assisitir depois, pois são dados mais recentes e o nosso interesse muda pelo tempo, como casos de recomendação na prática, pois antes vender CD e DVD era uma recomedação boa e hj não é.\n",
    "\n",
    "Então nossa métrica primaria ta definida, quantos dos Top N videos eu coloco na lista de videos para assistir depois. \n",
    "\n",
    "Normalmente precisamos definir umas métricas secúndarias: poderá ser, \"quanto tempo passo escolhendo vídeos ? \" Se fosse vários usuarios poderiamos ver qual a diferença de tempo entre um usuario que precisa selecionar na busca retornada pelo YT nas buscas mais recentes contra o tempo que a pessoa passa selecionando videos na lista que o nosso modelo passou para o usuario.\n",
    "\n",
    "É importante definir VARIAS métricas secundárias, a primaria precisa ser uma só, mas as secundarias precisam ser mais de uma para ter certeza do que estamos fazendo.\n",
    "\n",
    "Outras métricas mais avançadas como \"retenção de usuario\", simplesmente para termos certeza que não estamos quebrando nada, nao adianta melhorar a primaria e piorar 10 secundarias, nao adianta melhorar as vendas de uma empresa se o faturamento caiu ou o numero de tickets no suporte aumentos muito.\n",
    "\n",
    "\n",
    "\n",
    "\n",
    "\n",
    "\n",
    "\n"
   ]
  }
 ],
 "metadata": {
  "kernelspec": {
   "display_name": "Python 3",
   "language": "python",
   "name": "python3"
  },
  "language_info": {
   "codemirror_mode": {
    "name": "ipython",
    "version": 3
   },
   "file_extension": ".py",
   "mimetype": "text/x-python",
   "name": "python",
   "nbconvert_exporter": "python",
   "pygments_lexer": "ipython3",
   "version": "3.7.4"
  }
 },
 "nbformat": 4,
 "nbformat_minor": 2
}

{
 "cells": [
  {
   "cell_type": "markdown",
   "metadata": {},
   "source": [
    "As perguntas da seção anterior são validas para qualque projeto.\n",
    "\n",
    "Mas se estamos montado um portifólio, temos duas outras perguntas.\n",
    "\n",
    "COMO ESCOLHER O PROBLEMA PARA TRABALHAR ? Se for um problema interessante mas que nao seja absurdamente dificil de resolver, e mesmo em empresa é importante escolher um projeto que seja simples para começar, importante ter pequenas vitórias. Escolher projetos para entregar valor rapidamente.\n",
    "\n",
    "O QUE É UM PROBLEMA SIMPLES ? Problema que ja foi resolvido com sucesso por várias empresas e pessoas.\n",
    "\n",
    "Projetos que empresas gostam de ver em pórtifólio: recomendação, aumento de vendas, marketing em geral, e time series como previsão de demanda ou previsão de acessos no site, qualque previsão que tenha relação com o tempo.\n",
    "\n",
    "Tem tbm recomendação com time series. No caso do recomendador de videos do yotube, é uma time series pq os videos são enviados pelo YT pelo tempo e o acesso a eles tbm, quando vou na busca seleciono o mais recentes.\n",
    "\n",
    "Existem varias maneiras de conseguir esses dados e as vezes nao vamos ter os dados ideiais para resolver o problema. Nesse caso é importante, que pelo menos saibamos explicar os problemas de ter escolhido um dataset para conseguir resolver mais rapido e como o dataset ideal poderia beneficiar a solução a ser criada.\n",
    "\n",
    "O MAIS IMPORTANTE DO QUE ESCOLHER UM PROBLEMA QUE CHAME A ATENÇÃO DAS EMPRESAS É ESCOLHER UM PROBLEMA QUE TE INTERESSA. Por quais áreas vc se interessa ? Marketing ? Vendas ? \n",
    "\n",
    "\n",
    "Se a sua area de interesse nao tem um dataset disponivel, vc tem a opção de coletar esses dados e ai entramos no segundo passo.\n",
    "\n",
    "QUÃO FACIL É ACHAR DADOS PARA ESSA SOLUÇÃO ? Não adianta selecionar um problema que nao se consiga achar dados e ai voce pode pensar tanto na questão de ter um pronto, no kaggle ou no google dataset serch e outros lugares para resolver o teu problema, se não achar os dados nesses lugares vais ter que encontrar fontes de informação para coletar os dados.\n",
    "\n",
    "No caso so YT do curso pq precisaremos coletar dados, pq nao tenho esse dataset e nem as labels desse dataset e vamos ver como podemos coletar esses dados. Em uma empresa normalmente ja temos os bancos de dados prontos mas alguns casos precisamos coletar dados novos ou anotações novas.\n",
    "\n",
    "Nessa parte e bom fazer uma lista de todas as fontes de informação, no fim das contas dados são uma codificação de informações de algum fenomeno que nos interessa e queremos modelar. É importante fazer uma lista de fonte de informação ideias: se eu pudesse ter qualquer dados, quais dados eu teria ? E com isso vc pode selecionar dessa lista selecionar os possiveis, que realmente consigo para resolver o problema.\n",
    "\n",
    "\n",
    "A PARTE DA EXECUÇÃO: fica muito facil se respondermos as questões acima.\n",
    "\n",
    "E no nosso caso precisamos de dados do vídeo.\n",
    "\n",
    "QUAL O MINIMO DE DADOS QUE EU PRECISO ? Qual a informação que preciso ? Caracteristicas dos vídeos e uma label se eu gostei ou não desse video, é o minimo. Se eu quiser ir mais afundo, o minimo seria o titulo do video. Importante pois estamos criando o primeiro o modelo, e a ideia é sair do zero para alguma coisa, entao o importante entender isso quando estiver fazendo o portifolio. \n",
    "\n",
    "Pra pegar dados dos videos, não é qualquer video. Se olharmos a pagina inicial do YT, no caso não esta logado, faz recomendações muito genéricas, videos de todos os tipos. Então nao basta pegar qualquer vídeo, vou querer videos de buscas que eu faço.\n",
    "\n",
    "Eu vou queres vídeos, por exemplo, com a keyword \"machine learning\" ordenados pelo mais recente, e não só a keyword machine learning. Eu vou pegar os videos com queries = [machine learning, kaggle, data science] e varias que eu quisesse, vamos começar por essa três. \n",
    "\n",
    "Então agora essa é a parte onde definimos o problema e respondemos a questões, numa empresa isso e feito através de reuniões com a área de produto. Parte do processo que leva mais tempo para definir, mas não mais de uma semana. É importante que cada passo do projeto seja executado rapidamente.\n",
    "\n",
    "Definida essa parte, vamos para a parte de preparação e coletas dos dados. Pegar a informação que a gente sabe, perguntas e respostas que fizemos e começar a buscar recursos para criar solução.\n",
    "\n",
    "Objetivo era sair do zero, de não saber nem que problema resolver para ter um problema para resolver. \n",
    "\n",
    "PROBLEMA DE ML: Criar um modelo que vai rankear os videos mais interessante sobre machine learning e kaggle para eu assistir.\n",
    "\n",
    "\n",
    "\n"
   ]
  }
 ],
 "metadata": {
  "kernelspec": {
   "display_name": "Python 3",
   "language": "python",
   "name": "python3"
  },
  "language_info": {
   "codemirror_mode": {
    "name": "ipython",
    "version": 3
   },
   "file_extension": ".py",
   "mimetype": "text/x-python",
   "name": "python",
   "nbconvert_exporter": "python",
   "pygments_lexer": "ipython3",
   "version": "3.7.4"
  }
 },
 "nbformat": 4,
 "nbformat_minor": 2
}
